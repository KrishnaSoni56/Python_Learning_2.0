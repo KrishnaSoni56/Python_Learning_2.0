{
 "cells": [
  {
   "cell_type": "code",
   "execution_count": 4,
   "id": "78118c46",
   "metadata": {},
   "outputs": [
    {
     "name": "stdout",
     "output_type": "stream",
     "text": [
      "Enter 1st number60\n",
      "Enter 2st number20\n",
      "HCF is : 20\n"
     ]
    }
   ],
   "source": [
    "# Calculating HCF of two numbers in python using function\n",
    "\n",
    "def functionHCF(a,b):\n",
    "    if(a>b):\n",
    "        temp = b\n",
    "    else:\n",
    "        temp = a\n",
    "    while(a % temp != 0 or b % temp != 0):\n",
    "        temp -= 1\n",
    "    \n",
    "    return temp\n",
    "\n",
    "x = int(input(\"Enter 1st number\"))\n",
    "y = int(input(\"Enter 2st number\"))\n",
    "\n",
    "functionHCF(x,y)\n",
    "\n",
    "print(\"HCF is :\",functionHCF(x,y))"
   ]
  },
  {
   "cell_type": "code",
   "execution_count": null,
   "id": "ff4aef3a",
   "metadata": {},
   "outputs": [],
   "source": []
  }
 ],
 "metadata": {
  "kernelspec": {
   "display_name": "Python 3 (ipykernel)",
   "language": "python",
   "name": "python3"
  },
  "language_info": {
   "codemirror_mode": {
    "name": "ipython",
    "version": 3
   },
   "file_extension": ".py",
   "mimetype": "text/x-python",
   "name": "python",
   "nbconvert_exporter": "python",
   "pygments_lexer": "ipython3",
   "version": "3.10.9"
  }
 },
 "nbformat": 4,
 "nbformat_minor": 5
}
