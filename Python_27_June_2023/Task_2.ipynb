{
 "cells": [
  {
   "cell_type": "code",
   "execution_count": 13,
   "id": "05ca98d4",
   "metadata": {},
   "outputs": [
    {
     "name": "stdout",
     "output_type": "stream",
     "text": [
      "Enter 1st number45\n",
      "Enter 2st number22\n",
      "LCM is : 990\n"
     ]
    }
   ],
   "source": [
    "# Calculating LCM of two numbers in python using function\n",
    "\n",
    "def lcmfunction(a,b):\n",
    "    if(a>b):\n",
    "        temp = a\n",
    "    else:\n",
    "        temp = b\n",
    "        \n",
    "    while(temp % b != 0 or temp % a != 0):\n",
    "        temp +=1\n",
    "    \n",
    "    return temp\n",
    "\n",
    "\n",
    "x = int(input(\"Enter 1st number\"))\n",
    "y = int(input(\"Enter 2st number\"))\n",
    "\n",
    "lcmfunction(x,y)\n",
    "print(\"LCM is :\",lcmfunction(x,y))"
   ]
  },
  {
   "cell_type": "code",
   "execution_count": null,
   "id": "4d61a62a",
   "metadata": {},
   "outputs": [],
   "source": [
    "\n",
    "\n",
    "\n",
    "\n"
   ]
  },
  {
   "cell_type": "code",
   "execution_count": null,
   "id": "4bf8b721",
   "metadata": {},
   "outputs": [],
   "source": []
  },
  {
   "cell_type": "code",
   "execution_count": null,
   "id": "085163be",
   "metadata": {},
   "outputs": [],
   "source": []
  }
 ],
 "metadata": {
  "kernelspec": {
   "display_name": "Python 3 (ipykernel)",
   "language": "python",
   "name": "python3"
  },
  "language_info": {
   "codemirror_mode": {
    "name": "ipython",
    "version": 3
   },
   "file_extension": ".py",
   "mimetype": "text/x-python",
   "name": "python",
   "nbconvert_exporter": "python",
   "pygments_lexer": "ipython3",
   "version": "3.10.9"
  }
 },
 "nbformat": 4,
 "nbformat_minor": 5
}
