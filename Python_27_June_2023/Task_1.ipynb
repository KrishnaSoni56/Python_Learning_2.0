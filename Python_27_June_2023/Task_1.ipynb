{
 "cells": [
  {
   "cell_type": "code",
   "execution_count": 1,
   "id": "37fcad8e",
   "metadata": {},
   "outputs": [
    {
     "name": "stdout",
     "output_type": "stream",
     "text": [
      "[10, 20, 'hell', [20, 30]]\n"
     ]
    }
   ],
   "source": [
    "def listop(testlist):\n",
    "    for i in range(len(testlist)):\n",
    "        \n",
    "        if(type(testlist[i]) == str):\n",
    "            testlist[i] = testlist[i][:-1]\n",
    "            \n",
    "        elif (type(testlist[i]) == int):\n",
    "            testlist[i] = testlist[i]*5\n",
    "            \n",
    "        elif(type(testlist[i]) == list):\n",
    "            testlist[i].pop(0)\n",
    "    \n",
    "    \n",
    "testlist = [2,4,\"hello\",[10,20,30]]\n",
    "listop(testlist)\n",
    "print(testlist)"
   ]
  },
  {
   "cell_type": "code",
   "execution_count": null,
   "id": "b55efb57",
   "metadata": {},
   "outputs": [],
   "source": []
  }
 ],
 "metadata": {
  "kernelspec": {
   "display_name": "Python 3 (ipykernel)",
   "language": "python",
   "name": "python3"
  },
  "language_info": {
   "codemirror_mode": {
    "name": "ipython",
    "version": 3
   },
   "file_extension": ".py",
   "mimetype": "text/x-python",
   "name": "python",
   "nbconvert_exporter": "python",
   "pygments_lexer": "ipython3",
   "version": "3.10.9"
  }
 },
 "nbformat": 4,
 "nbformat_minor": 5
}
